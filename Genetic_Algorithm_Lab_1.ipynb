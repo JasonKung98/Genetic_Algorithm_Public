{
 "cells": [
  {
   "cell_type": "markdown",
   "metadata": {},
   "source": [
    "# Genetic Algorithm Lab\n",
    "\n",
    "- This notebook is meant to guide you in your first full program for the Artificial Intelligence course. Instructions and convenience functions are prepared for you, but you will need to fill in various code cells in order for the notebook to be fully-functioning. These code cells are marked with <b>#TODO</b> comments. Feel free to modify any other code in this notebook as well.\n",
    "\n",
    "\n",
    "\n",
    "- The problem to be solved in this lab is the Travelling Salesman Problem. More details on this problem are provided in your lab sheet.\n"
   ]
  },
  {
   "cell_type": "markdown",
   "metadata": {},
   "source": [
    "## Requirements\n",
    " - Python + Jupyter Notebook\n"
   ]
  },
  {
   "cell_type": "markdown",
   "metadata": {},
   "source": [
    "## Methodology"
   ]
  },
  {
   "cell_type": "markdown",
   "metadata": {},
   "source": [
    "1.\tDownload the ‘Genetic_Algorithm_Lab.ipynb’ Jupyter notebook and open it up.\n",
    "2.\tImplement a genetic algorithm for solving the Travelling Salesman Problem (TSP) by replacing codes marked as #TODO in the notebook, hence implementing loading city coordinates from created models, parent selection, survivor selection, crossover, mutation, and plotting.\n",
    "3.\tImplement tournament selection, as the parent selection and inversion mutation as mutation operator.\n",
    "4.\tTest your genetic algorithm with tournament selection and inversion mutation on the datasets provided (“In Create Model section”, Includes FIVE (5) models with different number of points/cities). Provide a GA parameters table for each model like Table[1].\n",
    "<hr>\n",
    "<table>\n",
    "<tr>\n",
    "<th>Table[1] - GA parameters </th>\n",
    "</tr>\n",
    "</table>\n",
    "\n",
    "<table>\n",
    "<tr>\n",
    "<th>   Model  |</th>\n",
    "<th>   MaxIt  |</th>\n",
    "<th>   nPop      |</th>\n",
    "<th>   pc        |</th>\n",
    "<th>   nc        |</th>\n",
    "<th>   nm        |</th>\n",
    "<th>   beta (β)  |</th>\n",
    "<th>   ts        |</th>\n",
    "<th>   BestSol   |</th>\n",
    "<th>   CPU Time  |</th>\n",
    "</tr>\n",
    "\n",
    "<tr>\n",
    "<td>1 </td>\n",
    "<td></td><td></td><td></td><td></td><td></td><td></td><td></td><td></td><td></td>\n",
    "</tr>\n",
    "\n",
    "<tr>\n",
    "<td>2  </td>\n",
    "<td></td><td></td><td></td><td></td><td></td><td></td><td></td><td></td><td></td>\n",
    "</tr>\n",
    "\n",
    "<tr>\n",
    "<td>3  </td>\n",
    "<td></td><td></td><td></td><td></td><td></td><td></td><td></td><td></td><td></td>\n",
    "</tr>\n",
    "\n",
    "<tr>\n",
    "<td>4  </td>\n",
    "<td></td><td></td><td></td><td></td><td></td><td></td><td></td><td></td><td></td>\n",
    "</tr>\n",
    "\n",
    "<tr>\n",
    "<td>5  </td>\n",
    "<td></td><td></td><td></td><td></td><td></td><td></td><td></td><td></td><td></td>\n",
    "</tr>\n",
    "</table>\n",
    "\n",
    "<hr>\n",
    "\n",
    "<table>\n",
    "<tr>\n",
    "<th>Table[2] - Abbreviations and Acronyms</th>\n",
    "</tr>\n",
    "<tr>\n",
    "<td style=\"text-align:left\"><b> MaxIt</b> : Maximum Number of Iterations.</td>\n",
    "</tr>\n",
    "<tr>\n",
    "<td style=\"text-align:left\"><b>nPop</b>  :  Population Size</td>\n",
    "</tr>\n",
    "<tr>\n",
    "<td style=\"text-align:left\"><b>pc</b>\t  :Crossover Percentage</td>\n",
    "</tr>\n",
    "<tr>\n",
    "<td style=\"text-align:left\"><b>nc</b>\t  :Number of Offsprings/ Crossover Population</td>\n",
    "</tr>\n",
    "<tr>\n",
    "<td style=\"text-align:left\"><b>nm</b>\t  : Number of Mutants</td>\n",
    "</tr>\n",
    "<tr>\n",
    "<td style=\"text-align:left\"><b>beta</b>  : Selection Pressure (β)</td>\n",
    "</tr>\n",
    "<tr>\n",
    "<td style=\"text-align:left\"><b>ts</b>\t  :Tournament Size</td>\n",
    "</tr>\n",
    "<tr>\n",
    "<td style=\"text-align:left\"><b>BestSol</b>:Best solution/fitness</td>\n",
    "</tr>\n",
    "<tr>\n",
    "<td style=\"text-align:left\"><b>CPU Time</b>:Time Taken</td>\n",
    "</tr>\n",
    "</table>\n",
    "<hr>\n",
    "\n",
    "5.\tEvaluate the performance (fitness and time taken) for each model and its’ components.\n",
    "6.\tOnce you have chosen the best selection function, try to fine tune the GA parameters to obtain the best solution. You may run your algorithms multiple times, use anything you want. A portion of your marks will come from how well your best route compares to all the routes submitted for this lab.\n",
    "7.\tDon’t forget to save your best solution and your best route for each model when you have gotten a good result as a png/jpg file, this is required for report!\n",
    "\n"
   ]
  },
  {
   "cell_type": "markdown",
   "metadata": {},
   "source": [
    "#### Report\n",
    "-\tYour report should present your results and your analysis of those results.\n",
    "-\tYour report should include the GA parameters analysis and the effect of these parameters to find the best solution.\n",
    "-\tThere is no page limit, but be sensible. Aim for 4-6 pages (less is better than more).\n",
    "-\tBe sure to report the best distance and distance matrix for each model in the report.\n",
    "#### Submission\n",
    "-\tYour submission comprises of ONE (1) Jupyter notebook, ONE (1) PDF document (Word files not accepted), and ONE (1) image file containing the best route and best costs (for each model) you have been able to find.\n",
    "-\tSubmission deadline is exactly 7 days after your lab finishes. Submission is through a eWBLE. \n",
    "-\tNote: Submission deadline is 7 August 2020, for week 6 and week 7 labs. \n",
    "\n",
    "#### Competitive Mark Component\n",
    "-\tA portion of the marks for this lab (see the marking rubric for details) will be awarded based on the relative performance of your algorithm vs all submitted algorithms within your lab session.\n",
    "-\tMarks awarded for submitted routes will range from 5% to 10%, with the best submitted route awarded 10% and the worst submitted route awarded 5%. A linear interpolation will be used, with the following formula, where W is the worst distance, B is the best distance, and L is your submitted distance.\n"
   ]
  },
  {
   "cell_type": "markdown",
   "metadata": {},
   "source": [
    "## Graded Components Weightage\n",
    "- Presentation and Formatting (15%)\n",
    "- Results (10%)\n",
    "- Analysis and Justification (30%)\n",
    "- Code Quality (30%)\n",
    "- Competitive Mark Component (10%)"
   ]
  },
  {
   "cell_type": "markdown",
   "metadata": {},
   "source": [
    "#### Presentation and Formatting Rubrics\n",
    "- 0 = Unreadable report.\n",
    "- 1 = Difficult to read, with obvious errors in formatting, grammar etc.\n",
    "- 2\t= Acceptable, with some errors in formatting, grammar etc.\n",
    "- 3\t= Good readability, appropriate use of graphics/tables. Minimal grammatical and formatting errors.\n",
    "- 4\t= Outstanding presentation and formatting, no errors at all.\n",
    "\n",
    "#### Results Rubrics\n",
    "- 0\t= Not reported.\n",
    "- 1\t= Inaccurate or incomplete results.\n",
    "- 2\t= Basic results reported.\n",
    "- 3\t= Results reported well, with thought given to organizing and summarizing data appropriately.\n",
    "- 4\t= Reporting of results is impeccable, summary is easily viewable at a glance.\n",
    "\n",
    "#### Analysis and Justification Rubrics\n",
    "- 0\t= Not provided.\n",
    "- 1\t= Perfunctory analysis and/or justification, off-topic or nonsensical.\n",
    "- 2\t= Brief (but correct) analysis or justification provided.\n",
    "- 3\t= Good analysis and justification which clearly provides rationale/reasoning.\n",
    "- 4\t= Very good analysis and justification which convinces the reader.\n",
    "\n",
    "#### Code Quality Rubrics\n",
    "- 0\t= Not submitted.\n",
    "- 1\t= Very poor code (no cells, hard to read etc.) or provided code does not work.\n",
    "- 2\t= Working code.\n",
    "- 3\t= Code is well organised and commented.\n",
    "- 4\t= Code is easy to read because it is very well organised, showing proper planning.\n",
    "\n",
    "#### Tabulation of Marks\n",
    "- Each graded component receives a mark based on the above rubrics. This assigned mark N is then divided by the maximum mark for the rubric M and multipled by the weightage W. So the sum of your report marks S will be.\n"
   ]
  },
  {
   "cell_type": "markdown",
   "metadata": {},
   "source": [
    "## Import Libraries"
   ]
  },
  {
   "cell_type": "code",
   "execution_count": null,
   "metadata": {
    "collapsed": true
   },
   "outputs": [],
   "source": [
    "import numpy as np\n",
    "import statistics\n",
    "import math\n",
    "import pandas as pd\n",
    "import random\n",
    "from matplotlib import pyplot as plt\n",
    "%matplotlib inline"
   ]
  },
  {
   "cell_type": "markdown",
   "metadata": {},
   "source": [
    "## Create Model"
   ]
  },
  {
   "cell_type": "code",
   "execution_count": null,
   "metadata": {
    "collapsed": true,
    "scrolled": true
   },
   "outputs": [],
   "source": [
    "# Create Random Model\n",
    "#xxx=random.sample(range(100),15)\n",
    "#yyy=random.sample(range(100),15)\n",
    "\n",
    "##################### The First Model (Includes 10 cities) ########################\n",
    "xxx=[15, 65, 8, 55, 21, 32, 5, 88, 38, 61]\n",
    "yyy=[5, 99, 65, 59, 95, 50, 63, 74, 65, 74]\n",
    "\n",
    "# ################## The Second Model (Includes 15 cities) ########################\n",
    "# xxx=[15, 65, 8, 55, 21, 32, 5, 88, 38, 61, 44, 51, 31, 30, 0]\n",
    "# yyy=[5, 99, 65, 59, 95, 50, 63, 74, 65, 74, 60, 22, 55, 95, 73]\n",
    "\n",
    "\n",
    "#################### The Third Model (Includes 20 cities) ########################\n",
    "# xxx=[15, 65, 8, 55, 21, 32, 5, 88, 38, 61, 44, 51, 31, 30, 0, 56, 11, 65, 11, 44]\n",
    "# yyy=[5, 99, 65, 59, 95, 50, 63, 74, 65, 74, 60, 22, 55, 95, 73, 9, 59, 64, 47, 57]\n",
    "\n",
    "\n",
    "############## The Fourth Model/Crircle Model(Includes 20 cities)  #################\n",
    "# r=10\n",
    "# t= np.linspace(-np.pi, np.pi, 20)\n",
    "# xxx=r*np.sin(t)\n",
    "# yyy=r*np.cos(t)\n",
    "\n",
    "# ############## The fifth Model/Crircle Model (Includes 22 cities)  #################\n",
    "# r=10\n",
    "# t= np.linspace(-np.pi, np.pi, 22)\n",
    "# xxx=r*np.sin(t)\n",
    "# yyy=r*np.cos(t)\n",
    "\n",
    "# Number of Nodes/cities\n",
    "N = len(xxx)\n",
    "\n",
    "# Euclidean Distance Matrix (EDM)\n",
    "D = [ [0] * N for _ in range(N)]\n",
    "for i in range(N):\n",
    "    for j in range(N):\n",
    "        D[i][j] = math.sqrt((xxx[i]-xxx[j])**2+(yyy[i]-yyy[j])**2)\n",
    "        \n",
    "#df = pd.DataFrame(D)\n",
    "#df"
   ]
  },
  {
   "cell_type": "markdown",
   "metadata": {},
   "source": [
    "## Problem Definition"
   ]
  },
  {
   "cell_type": "code",
   "execution_count": null,
   "metadata": {
    "collapsed": true
   },
   "outputs": [],
   "source": [
    "# Cost Function\n",
    "def TourLength(x, D):  \n",
    "    L=0   \n",
    "    if not x:\n",
    "        return\n",
    "    y = x.copy()\n",
    "    i=0\n",
    "    for i in range(len(y)-1):\n",
    "        L = L + D[y[i]][y[i+1]]\n",
    "    return L"
   ]
  },
  {
   "cell_type": "code",
   "execution_count": null,
   "metadata": {
    "collapsed": true
   },
   "outputs": [],
   "source": [
    "# Define Optimization Problem\n",
    "problem = {\n",
    "        'CostFunction': TourLength,\n",
    "    };"
   ]
  },
  {
   "cell_type": "markdown",
   "metadata": {},
   "source": [
    "## Parameters of GA"
   ]
  },
  {
   "cell_type": "code",
   "execution_count": null,
   "metadata": {
    "collapsed": true
   },
   "outputs": [],
   "source": [
    "# GA Parameters\n",
    "\n",
    "maxit = 200         # Maximum Number of Iterations\n",
    "npop = 50          # Population Size\n",
    "\n",
    "pc = 2              # Crossover Percentage\n",
    "nc = int(np.round(pc*npop/2)*2)  # Number of Offsprings (Crossover Pop)\n",
    "nm=nc               # Number of Mutants\n",
    "\n",
    "beta = 1           # Selection Pressure\n",
    "TS =5              # Tournament Size"
   ]
  },
  {
   "cell_type": "markdown",
   "metadata": {},
   "source": [
    "## Initialization"
   ]
  },
  {
   "cell_type": "code",
   "execution_count": null,
   "metadata": {
    "collapsed": true
   },
   "outputs": [],
   "source": [
    "# Empty Individual Template\n",
    "empty_individual = {\n",
    "        'position': None,\n",
    "        'cost': None,\n",
    "}\n",
    "\n",
    "\n",
    "# Load Problem parameters\n",
    "CostFunction=problem['CostFunction']\n",
    "\n",
    "# Best Solution Ever Found\n",
    "bestsol = {\n",
    "    'position': None, \n",
    "    'cost': np.inf\n",
    "}\n",
    "    \n",
    "# Best Cost of Iterations\n",
    "bestcost = np.empty(maxit)\n",
    "    \n",
    "# Average Costs\n",
    "avg_best_costs = np.empty(maxit)"
   ]
  },
  {
   "cell_type": "code",
   "execution_count": null,
   "metadata": {
    "collapsed": true
   },
   "outputs": [],
   "source": [
    "# Create Random Solution\n",
    "def CreateRandomSolution(N):\n",
    "    return list(np.random.permutation(range(N)))"
   ]
  },
  {
   "cell_type": "code",
   "execution_count": null,
   "metadata": {
    "collapsed": true
   },
   "outputs": [],
   "source": [
    "# Create Initial Population\n",
    "pop = []\n",
    "for i in range(0, npop):\n",
    "    \n",
    "    # Create Empty Particle\n",
    "    pop.append(empty_individual.copy())\n",
    "    \n",
    "    # Initialize Random Position \n",
    "    pop[i]['position'] = CreateRandomSolution(N)\n",
    "    \n",
    "    # Evaluation\n",
    "    pop[i]['cost'] = CostFunction(pop[i]['position'], D)\n",
    "    \n",
    "\n",
    "    #Initialize Global Best\n",
    "    if pop[i]['cost'] < bestsol['cost']:\n",
    "        bestsol['position'] = pop[i]['position'].copy()\n",
    "        bestsol['cost'] = pop[i]['cost']\n",
    "        "
   ]
  },
  {
   "cell_type": "markdown",
   "metadata": {},
   "source": [
    "# Main Loop of GA "
   ]
  },
  {
   "cell_type": "markdown",
   "metadata": {},
   "source": [
    "#### Crossover\n",
    "- The crossover function combines two parents in such a way that their children inherit some of each parent's characteristics. In the case of TSP, you will need to use crossover methods such as Single Point Crossover (other examples are listed in the lecture slides)."
   ]
  },
  {
   "cell_type": "code",
   "execution_count": null,
   "metadata": {
    "collapsed": true
   },
   "outputs": [],
   "source": [
    "def crossover(parent1, parent2):\n",
    "    child1 = parent1.copy()\n",
    "    child2 = parent2.copy()\n",
    "    \n",
    "    # Determine Chromosome Length\n",
    "    n_len = len(parent1['position'])\n",
    "    \n",
    "    for _ in range(5):\n",
    "        # Determine Crossover Point\n",
    "        cut_point = random.randint(1,n_len-1) \n",
    "        # corssover point: start from 1 to n-1\n",
    "        \n",
    "        # Single-point Crossover\n",
    "        child1['position'] = parent1['position'][:cut_point] + parent2['position'][cut_point:]\n",
    "        child2['position'] = parent2['position'][:cut_point] + parent1['position'][cut_point:]\n",
    "    \n",
    "        R1 = list(set(parent2['position'][cut_point:]) & set(parent1['position'][:cut_point]))\n",
    "        R2 = list(set(parent1['position'][cut_point:]) & set(parent2['position'][:cut_point]))\n",
    "        \n",
    "        if (len(R1)!=len(R2)):\n",
    "            print(\"error!\")\n",
    "        \n",
    "        for k1 in range(len(R1)):\n",
    "            ii = child1['position'].index(R1[k1])\n",
    "            jj = child2['position'].index(R2[k1])\n",
    "            \n",
    "            temp = child1['position'][ii]\n",
    "            child1['position'][ii] = child2['position'][jj] \n",
    "            child2['position'][jj] = temp\n",
    "\n",
    "    return child1, child2 , cut_point"
   ]
  },
  {
   "cell_type": "markdown",
   "metadata": {},
   "source": [
    "#### Mutation\n",
    "- Mutations are small random changes which maintain/introduce diversity. By necessity, mutations must occur at low probability and avoid changing everything in a chromosome. As with crossover, mutation in TSP must respect the constraint that every City occurs exactly once in the Route."
   ]
  },
  {
   "cell_type": "code",
   "execution_count": null,
   "metadata": {
    "collapsed": true
   },
   "outputs": [],
   "source": [
    "# Inversion Mutation \n",
    "def inversion_mutation(parent):\n",
    "    #TODO - implement this function by replacing the code between the TODO lines\n",
    "    Tour = range(len(parent['position']))\n",
    "    i = random.sample(Tour, 2)\n",
    "    i1=i[0]\n",
    "    i2=i[1]\n",
    "    child = parent.copy()\n",
    "    child['position'][i2], child['position'][i1] = parent['position'][i1], parent['position'][i2]\n",
    "    #TODO - the code above simply generates new random route.\n",
    "    # Replace it with code which implements a suitable Inversion Mutation method.\n",
    "    return child\n"
   ]
  },
  {
   "cell_type": "markdown",
   "metadata": {},
   "source": [
    "## Selection\n",
    "- Parent selection is the primary form of selection, and is used to create a mating pool."
   ]
  },
  {
   "cell_type": "markdown",
   "metadata": {},
   "source": [
    "### Tournament selection"
   ]
  },
  {
   "cell_type": "code",
   "execution_count": null,
   "metadata": {
    "collapsed": true
   },
   "outputs": [],
   "source": [
    "def tournament_selection(Population, Probabilities, TS):\n",
    "    #TODO - implement this function by replacing the code between \n",
    "    # the TODO lines\n",
    "    CutPoint = np.cumsum(Probabilities)\n",
    "    rnd = sum(Probabilities)*np.random.rand()\n",
    "    index = np.argwhere(rnd <= CutPoint)\n",
    "    return index[0][0]\n",
    "    #TODO - the code above simply generates new random route.\n",
    "    # Replace it with code which implements a suitable Tournament selection method."
   ]
  },
  {
   "cell_type": "markdown",
   "metadata": {},
   "source": [
    "### Plot Solution\n",
    "- Shows the Iterations Information and plot them."
   ]
  },
  {
   "cell_type": "code",
   "execution_count": null,
   "metadata": {
    "collapsed": true
   },
   "outputs": [],
   "source": [
    "def PlotSolution(soll):\n",
    "    sol = soll.copy()\n",
    "    sol.append(sol[0]) \n",
    "    nn = len(sol)\n",
    "    fig = plt.gcf()\n",
    "    plt.clf()\n",
    "    fig.canvas.draw()\n",
    "    plt.plot([xxx[sol[i]] for i in range(nn)], [yyy[sol[i]] for i in range(nn)], 'xb-')\n",
    "    plt.pause(0.001)\n",
    "    fig.canvas.draw()\n",
    "    "
   ]
  },
  {
   "cell_type": "markdown",
   "metadata": {},
   "source": [
    "## Time\n",
    "- Tic\n",
    "- Toc\n"
   ]
  },
  {
   "cell_type": "code",
   "execution_count": null,
   "metadata": {
    "collapsed": true
   },
   "outputs": [],
   "source": [
    "def tic():\n",
    "    import time\n",
    "    global startTime_for_tictoc\n",
    "    startTime_for_tictoc = time.time()"
   ]
  },
  {
   "cell_type": "code",
   "execution_count": null,
   "metadata": {
    "collapsed": true
   },
   "outputs": [],
   "source": [
    "def toc():\n",
    "    import time, math;\n",
    "    if 'startTime_for_tictoc' in globals():\n",
    "        dt = math.floor(100*(time.time() - startTime_for_tictoc))/100.;\n",
    "        print('Elapsed time is {} second(s).'.format(dt));\n",
    "    else:\n",
    "        print('Start time not set. You should call tic before toc.');"
   ]
  },
  {
   "cell_type": "markdown",
   "metadata": {},
   "source": [
    "## Main Loop"
   ]
  },
  {
   "cell_type": "markdown",
   "metadata": {},
   "source": [
    "#### Running Genetic Algorithm\n",
    "- The entire genetic algorithm needs to initialize a Route of City instances, then iteratively generate new generations. Take note that, unlike all the cells above, the cell below is NOT a function. Various parameters are set right at the top (you should set them to something reasonable)."
   ]
  },
  {
   "cell_type": "code",
   "execution_count": null,
   "metadata": {},
   "outputs": [],
   "source": [
    "# Main Loop\n",
    "\n",
    "tic()\n",
    "\n",
    "for it in range(maxit):\n",
    "    \n",
    "    # Calculate Selection Probabilities based on costs \n",
    "    costs = np.array([x['cost'] for x in pop])\n",
    "    probs = np.exp(-beta*costs)/np.sum(np.exp(-beta*costs))\n",
    "    \n",
    "    popc = []\n",
    "    for _ in range(nc//2):\n",
    "        \n",
    "        # Select Parents\n",
    "        \n",
    "        # Perform Tournament selection using tournament_selection() method\n",
    "        #TODO - implement this function by replacing the code between\n",
    "        #the TODO lines\n",
    "        p1 = pop[roulette_wheel_selection(probs)]\n",
    "        p2 = pop[roulette_wheel_selection(probs)]\n",
    "        #TODO - the code above simply generates new random route.\n",
    "        # Replace it with code which implements a suitable Tournament selection method.\n",
    "        \n",
    "        \n",
    "        \n",
    "        # Perform Crossover\n",
    "        c1, c2, _ = crossover(p1, p2) # c1: child1 & c2: child2\n",
    "\n",
    "        # Apply  inversion_mutation\n",
    "        #TODO - implement this function by replacing the code between\n",
    "        #the TODO lines\n",
    "        c1 = mutate(c1)\n",
    "        c2 = mutate(c2)\n",
    "        #TODO - the code above simply generates new random route.\n",
    "        # Replace it with code which implements a suitable Tournament selection method.\n",
    "        \n",
    "\n",
    "        # Evaluate First Offspring\n",
    "        c1['cost'] = CostFunction(c1['position'], D)\n",
    "        if c1['cost'] < bestsol['cost']:\n",
    "            bestsol = c1.copy()\n",
    "\n",
    "        # Evaluate Second Offspring\n",
    "        c2['cost'] = CostFunction(c2['position'], D)\n",
    "        if c2['cost'] < bestsol['cost']:\n",
    "            bestsol = c2.copy()\n",
    "\n",
    "        # Add Offsprings to popc\n",
    "        popc.append(c1)\n",
    "        popc.append(c2)\n",
    "\n",
    "\n",
    "    # Merge, Sort and Select\n",
    "    pop += popc\n",
    "    pop = sorted(pop, key=lambda x: x['cost'])\n",
    "    pop = pop[0:npop]\n",
    "\n",
    "    # Store Best Cost\n",
    "    bestcost[it] = bestsol['cost']\n",
    "    avg_best_costs[it] = sum(bestcost)/it\n",
    "\n",
    "    # Show Iteration Information\n",
    "    print(\"Iteration {}: Best Cost = {}\".format(it, bestcost[it]))\n",
    "    PlotSolution(bestsol['position'])\n",
    "toc()"
   ]
  },
  {
   "cell_type": "markdown",
   "metadata": {},
   "source": [
    " ## Results"
   ]
  },
  {
   "cell_type": "code",
   "execution_count": null,
   "metadata": {
    "collapsed": true
   },
   "outputs": [],
   "source": [
    "import matplotlib.pyplot as plt\n",
    "# Results\n",
    "plt.plot(bestcost)\n",
    "\n",
    "# plt.semilogy(out.bestcost)\n",
    "plt.xlim(0, maxit)\n",
    "plt.xlabel('Iterations')\n",
    "plt.ylabel('Best Cost')\n",
    "plt.title('Genetic Algorithm')\n",
    "plt.grid(True)\n",
    "plt.show()"
   ]
  }
 ],
 "metadata": {
  "kernelspec": {
   "display_name": "Python 3",
   "language": "python",
   "name": "python3"
  },
  "language_info": {
   "codemirror_mode": {
    "name": "ipython",
    "version": 3
   },
   "file_extension": ".py",
   "mimetype": "text/x-python",
   "name": "python",
   "nbconvert_exporter": "python",
   "pygments_lexer": "ipython3",
   "version": "3.6.3"
  },
  "widgets": {
   "application/vnd.jupyter.widget-state+json": {
    "state": {},
    "version_major": 2,
    "version_minor": 0
   }
  }
 },
 "nbformat": 4,
 "nbformat_minor": 2
}
